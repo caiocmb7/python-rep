{
  "nbformat": 4,
  "nbformat_minor": 0,
  "metadata": {
    "colab": {
      "name": "PySpark.ipynb",
      "provenance": []
    },
    "kernelspec": {
      "name": "python3",
      "display_name": "Python 3"
    },
    "language_info": {
      "name": "python"
    }
  },
  "cells": [
    {
      "cell_type": "markdown",
      "metadata": {
        "id": "l3q-NrSuYO2D"
      },
      "source": [
        "**Instalar sessão**"
      ]
    },
    {
      "cell_type": "code",
      "metadata": {
        "id": "vO0Sca0ZVDeU"
      },
      "source": [
        "# instalar as dependências\n",
        "!apt-get install openjdk-8-jdk-headless -qq > /dev/null\n",
        "!wget -q https://archive.apache.org/dist/spark/spark-2.4.4/spark-2.4.4-bin-hadoop2.7.tgz\n",
        "!tar xf spark-2.4.4-bin-hadoop2.7.tgz\n",
        "!pip install -q findspark"
      ],
      "execution_count": 4,
      "outputs": []
    },
    {
      "cell_type": "code",
      "metadata": {
        "id": "4mPqanKWVPyi"
      },
      "source": [
        "# configurar as variáveis de ambiente\n",
        "import os\n",
        "os.environ[\"JAVA_HOME\"] = \"/usr/lib/jvm/java-8-openjdk-amd64\"\n",
        "os.environ[\"SPARK_HOME\"] = \"/content/spark-2.4.4-bin-hadoop2.7\"\n",
        "\n",
        "# tornar o pyspark \"importável\"\n",
        "import findspark\n",
        "findspark.init('spark-2.4.4-bin-hadoop2.7')"
      ],
      "execution_count": 5,
      "outputs": []
    },
    {
      "cell_type": "markdown",
      "metadata": {
        "id": "mJxn8udwYX4a"
      },
      "source": [
        "**Coding**"
      ]
    },
    {
      "cell_type": "code",
      "metadata": {
        "id": "Ost5cAHjVQWB"
      },
      "source": [
        "# iniciar uma sessão local\n",
        "from pyspark.sql import SparkSession\n",
        "sc = SparkSession.builder.master('local[*]').getOrCreate()"
      ],
      "execution_count": 9,
      "outputs": []
    },
    {
      "cell_type": "code",
      "metadata": {
        "colab": {
          "base_uri": "https://localhost:8080/"
        },
        "id": "F578-rlXYdy7",
        "outputId": "d6338d5d-194a-4763-babc-a37d9e4f7a69"
      },
      "source": [
        "# carregar dados de um csv\n",
        "df_spark = sc.read.csv(\"/content/worldcities.csv\")\n",
        "\n",
        "# ver algumas informações sobre os tipos de dados de cada coluna\n",
        "df_spark.printSchema()"
      ],
      "execution_count": 12,
      "outputs": [
        {
          "output_type": "stream",
          "name": "stdout",
          "text": [
            "root\n",
            " |-- _c0: string (nullable = true)\n",
            " |-- _c1: string (nullable = true)\n",
            " |-- _c2: string (nullable = true)\n",
            " |-- _c3: string (nullable = true)\n",
            " |-- _c4: string (nullable = true)\n",
            " |-- _c5: string (nullable = true)\n",
            " |-- _c6: string (nullable = true)\n",
            " |-- _c7: string (nullable = true)\n",
            " |-- _c8: string (nullable = true)\n",
            " |-- _c9: string (nullable = true)\n",
            " |-- _c10: string (nullable = true)\n",
            "\n"
          ]
        }
      ]
    },
    {
      "cell_type": "code",
      "metadata": {
        "colab": {
          "base_uri": "https://localhost:8080/"
        },
        "id": "oIiYGg37YgFP",
        "outputId": "d0d09d32-ae99-421c-dee4-e2d2ae7d56c2"
      },
      "source": [
        "df_spark.show()"
      ],
      "execution_count": 13,
      "outputs": [
        {
          "output_type": "stream",
          "name": "stdout",
          "text": [
            "+------------+------------+--------+--------+-------------+----+----+--------------------+-------+----------+----------+\n",
            "|         _c0|         _c1|     _c2|     _c3|          _c4| _c5| _c6|                 _c7|    _c8|       _c9|      _c10|\n",
            "+------------+------------+--------+--------+-------------+----+----+--------------------+-------+----------+----------+\n",
            "|        city|  city_ascii|     lat|     lng|      country|iso2|iso3|          admin_name|capital|population|        id|\n",
            "|       Tokyo|       Tokyo| 35.6897|139.6922|        Japan|  JP| JPN|               Tōkyō|primary|  37977000|1392685764|\n",
            "|     Jakarta|     Jakarta| -6.2146|106.8451|    Indonesia|  ID| IDN|             Jakarta|primary|  34540000|1360771077|\n",
            "|       Delhi|       Delhi| 28.6600| 77.2300|        India|  IN| IND|               Delhi|  admin|  29617000|1356872604|\n",
            "|      Mumbai|      Mumbai| 18.9667| 72.8333|        India|  IN| IND|         Mahārāshtra|  admin|  23355000|1356226629|\n",
            "|      Manila|      Manila| 14.6000|120.9833|  Philippines|  PH| PHL|              Manila|primary|  23088000|1608618140|\n",
            "|    Shanghai|    Shanghai| 31.1667|121.4667|        China|  CN| CHN|            Shanghai|  admin|  22120000|1156073548|\n",
            "|   São Paulo|   Sao Paulo|-23.5504|-46.6339|       Brazil|  BR| BRA|           São Paulo|  admin|  22046000|1076532519|\n",
            "|       Seoul|       Seoul| 37.5600|126.9900| Korea, South|  KR| KOR|               Seoul|primary|  21794000|1410836482|\n",
            "| Mexico City| Mexico City| 19.4333|-99.1333|       Mexico|  MX| MEX|    Ciudad de México|primary|  20996000|1484247881|\n",
            "|   Guangzhou|   Guangzhou| 23.1288|113.2590|        China|  CN| CHN|           Guangdong|  admin|  20902000|1156237133|\n",
            "|     Beijing|     Beijing| 39.9050|116.3914|        China|  CN| CHN|             Beijing|primary|  19433000|1156228865|\n",
            "|       Cairo|       Cairo| 30.0561| 31.2394|        Egypt|  EG| EGY|          Al Qāhirah|primary|  19372000|1818253931|\n",
            "|    New York|    New York| 40.6943|-73.9249|United States|  US| USA|            New York|   null|  18713220|1840034016|\n",
            "|     Kolkāta|     Kolkata| 22.5411| 88.3378|        India|  IN| IND|         West Bengal|  admin|  17560000|1356060520|\n",
            "|      Moscow|      Moscow| 55.7558| 37.6178|       Russia|  RU| RUS|              Moskva|primary|  17125000|1643318494|\n",
            "|     Bangkok|     Bangkok| 13.7500|100.5167|     Thailand|  TH| THA|Krung Thep Maha N...|primary|  17066000|1764068610|\n",
            "|Buenos Aires|Buenos Aires|-34.5997|-58.3819|    Argentina|  AR| ARG|Buenos Aires, Ciu...|primary|  16157000|1032717330|\n",
            "|    Shenzhen|    Shenzhen| 22.5350|114.0540|        China|  CN| CHN|           Guangdong|  minor|  15929000|1156158707|\n",
            "|       Dhaka|       Dhaka| 23.7289| 90.3944|   Bangladesh|  BD| BGD|               Dhaka|primary|  15443000|1050529279|\n",
            "+------------+------------+--------+--------+-------------+----+----+--------------------+-------+----------+----------+\n",
            "only showing top 20 rows\n",
            "\n"
          ]
        }
      ]
    },
    {
      "cell_type": "markdown",
      "metadata": {
        "id": "lDRxGkgZcbh_"
      },
      "source": [
        "Usando header para setar os nomes das colunas corretamente"
      ]
    },
    {
      "cell_type": "code",
      "metadata": {
        "id": "hQyKkacZY2nf"
      },
      "source": [
        "df_spark1 = sc.read.csv(\"/content/worldcities.csv\", header=True)"
      ],
      "execution_count": 14,
      "outputs": []
    },
    {
      "cell_type": "code",
      "metadata": {
        "colab": {
          "base_uri": "https://localhost:8080/"
        },
        "id": "JaTlk-ANY7d6",
        "outputId": "5ad7d192-bc1c-4e36-d91d-2c06804a14bc"
      },
      "source": [
        "df_spark1.show()"
      ],
      "execution_count": 15,
      "outputs": [
        {
          "output_type": "stream",
          "name": "stdout",
          "text": [
            "+------------+------------+--------+--------+-------------+----+----+--------------------+-------+----------+----------+\n",
            "|        city|  city_ascii|     lat|     lng|      country|iso2|iso3|          admin_name|capital|population|        id|\n",
            "+------------+------------+--------+--------+-------------+----+----+--------------------+-------+----------+----------+\n",
            "|       Tokyo|       Tokyo| 35.6897|139.6922|        Japan|  JP| JPN|               Tōkyō|primary|  37977000|1392685764|\n",
            "|     Jakarta|     Jakarta| -6.2146|106.8451|    Indonesia|  ID| IDN|             Jakarta|primary|  34540000|1360771077|\n",
            "|       Delhi|       Delhi| 28.6600| 77.2300|        India|  IN| IND|               Delhi|  admin|  29617000|1356872604|\n",
            "|      Mumbai|      Mumbai| 18.9667| 72.8333|        India|  IN| IND|         Mahārāshtra|  admin|  23355000|1356226629|\n",
            "|      Manila|      Manila| 14.6000|120.9833|  Philippines|  PH| PHL|              Manila|primary|  23088000|1608618140|\n",
            "|    Shanghai|    Shanghai| 31.1667|121.4667|        China|  CN| CHN|            Shanghai|  admin|  22120000|1156073548|\n",
            "|   São Paulo|   Sao Paulo|-23.5504|-46.6339|       Brazil|  BR| BRA|           São Paulo|  admin|  22046000|1076532519|\n",
            "|       Seoul|       Seoul| 37.5600|126.9900| Korea, South|  KR| KOR|               Seoul|primary|  21794000|1410836482|\n",
            "| Mexico City| Mexico City| 19.4333|-99.1333|       Mexico|  MX| MEX|    Ciudad de México|primary|  20996000|1484247881|\n",
            "|   Guangzhou|   Guangzhou| 23.1288|113.2590|        China|  CN| CHN|           Guangdong|  admin|  20902000|1156237133|\n",
            "|     Beijing|     Beijing| 39.9050|116.3914|        China|  CN| CHN|             Beijing|primary|  19433000|1156228865|\n",
            "|       Cairo|       Cairo| 30.0561| 31.2394|        Egypt|  EG| EGY|          Al Qāhirah|primary|  19372000|1818253931|\n",
            "|    New York|    New York| 40.6943|-73.9249|United States|  US| USA|            New York|   null|  18713220|1840034016|\n",
            "|     Kolkāta|     Kolkata| 22.5411| 88.3378|        India|  IN| IND|         West Bengal|  admin|  17560000|1356060520|\n",
            "|      Moscow|      Moscow| 55.7558| 37.6178|       Russia|  RU| RUS|              Moskva|primary|  17125000|1643318494|\n",
            "|     Bangkok|     Bangkok| 13.7500|100.5167|     Thailand|  TH| THA|Krung Thep Maha N...|primary|  17066000|1764068610|\n",
            "|Buenos Aires|Buenos Aires|-34.5997|-58.3819|    Argentina|  AR| ARG|Buenos Aires, Ciu...|primary|  16157000|1032717330|\n",
            "|    Shenzhen|    Shenzhen| 22.5350|114.0540|        China|  CN| CHN|           Guangdong|  minor|  15929000|1156158707|\n",
            "|       Dhaka|       Dhaka| 23.7289| 90.3944|   Bangladesh|  BD| BGD|               Dhaka|primary|  15443000|1050529279|\n",
            "|       Lagos|       Lagos|  6.4500|  3.4000|      Nigeria|  NG| NGA|               Lagos|  minor|  15279000|1566593751|\n",
            "+------------+------------+--------+--------+-------------+----+----+--------------------+-------+----------+----------+\n",
            "only showing top 20 rows\n",
            "\n"
          ]
        }
      ]
    },
    {
      "cell_type": "code",
      "metadata": {
        "colab": {
          "base_uri": "https://localhost:8080/"
        },
        "id": "AddY5RrEcsJv",
        "outputId": "2359e5e0-05bc-4051-dec0-bbebfa0ebe5f"
      },
      "source": [
        "df_spark1"
      ],
      "execution_count": 19,
      "outputs": [
        {
          "output_type": "execute_result",
          "data": {
            "text/plain": [
              "DataFrame[city: string, city_ascii: string, lat: string, lng: string, country: string, iso2: string, iso3: string, admin_name: string, capital: string, population: string, id: string]"
            ]
          },
          "metadata": {},
          "execution_count": 19
        }
      ]
    },
    {
      "cell_type": "markdown",
      "metadata": {
        "id": "zJ-M3PCkcgxf"
      },
      "source": [
        "Como poder ver acima, todas as colunas são do tipo string, vamos ajeitar usando inferSchema"
      ]
    },
    {
      "cell_type": "code",
      "metadata": {
        "id": "wkspRXwUY-vu"
      },
      "source": [
        "df_spark2 = sc.read.csv(\"/content/worldcities.csv\", inferSchema=True, header=True) "
      ],
      "execution_count": 18,
      "outputs": []
    },
    {
      "cell_type": "code",
      "metadata": {
        "colab": {
          "base_uri": "https://localhost:8080/"
        },
        "id": "9DPG7F6Hc38V",
        "outputId": "184b01fa-90f6-48ac-8fc2-e6ea716559cf"
      },
      "source": [
        "df_spark2"
      ],
      "execution_count": 20,
      "outputs": [
        {
          "output_type": "execute_result",
          "data": {
            "text/plain": [
              "DataFrame[city: string, city_ascii: string, lat: double, lng: double, country: string, iso2: string, iso3: string, admin_name: string, capital: string, population: double, id: int]"
            ]
          },
          "metadata": {},
          "execution_count": 20
        }
      ]
    },
    {
      "cell_type": "code",
      "metadata": {
        "colab": {
          "base_uri": "https://localhost:8080/"
        },
        "id": "43JWGi36ZDg7",
        "outputId": "7770226d-ef8c-4232-ea52-5fad1657e67f"
      },
      "source": [
        "df_spark2.show()"
      ],
      "execution_count": 17,
      "outputs": [
        {
          "output_type": "stream",
          "name": "stdout",
          "text": [
            "+------------+------------+--------+--------+-------------+----+----+--------------------+-------+----------+----------+\n",
            "|        city|  city_ascii|     lat|     lng|      country|iso2|iso3|          admin_name|capital|population|        id|\n",
            "+------------+------------+--------+--------+-------------+----+----+--------------------+-------+----------+----------+\n",
            "|       Tokyo|       Tokyo| 35.6897|139.6922|        Japan|  JP| JPN|               Tōkyō|primary|  3.7977E7|1392685764|\n",
            "|     Jakarta|     Jakarta| -6.2146|106.8451|    Indonesia|  ID| IDN|             Jakarta|primary|   3.454E7|1360771077|\n",
            "|       Delhi|       Delhi|   28.66|   77.23|        India|  IN| IND|               Delhi|  admin|  2.9617E7|1356872604|\n",
            "|      Mumbai|      Mumbai| 18.9667| 72.8333|        India|  IN| IND|         Mahārāshtra|  admin|  2.3355E7|1356226629|\n",
            "|      Manila|      Manila|    14.6|120.9833|  Philippines|  PH| PHL|              Manila|primary|  2.3088E7|1608618140|\n",
            "|    Shanghai|    Shanghai| 31.1667|121.4667|        China|  CN| CHN|            Shanghai|  admin|   2.212E7|1156073548|\n",
            "|   São Paulo|   Sao Paulo|-23.5504|-46.6339|       Brazil|  BR| BRA|           São Paulo|  admin|  2.2046E7|1076532519|\n",
            "|       Seoul|       Seoul|   37.56|  126.99| Korea, South|  KR| KOR|               Seoul|primary|  2.1794E7|1410836482|\n",
            "| Mexico City| Mexico City| 19.4333|-99.1333|       Mexico|  MX| MEX|    Ciudad de México|primary|  2.0996E7|1484247881|\n",
            "|   Guangzhou|   Guangzhou| 23.1288| 113.259|        China|  CN| CHN|           Guangdong|  admin|  2.0902E7|1156237133|\n",
            "|     Beijing|     Beijing|  39.905|116.3914|        China|  CN| CHN|             Beijing|primary|  1.9433E7|1156228865|\n",
            "|       Cairo|       Cairo| 30.0561| 31.2394|        Egypt|  EG| EGY|          Al Qāhirah|primary|  1.9372E7|1818253931|\n",
            "|    New York|    New York| 40.6943|-73.9249|United States|  US| USA|            New York|   null|1.871322E7|1840034016|\n",
            "|     Kolkāta|     Kolkata| 22.5411| 88.3378|        India|  IN| IND|         West Bengal|  admin|   1.756E7|1356060520|\n",
            "|      Moscow|      Moscow| 55.7558| 37.6178|       Russia|  RU| RUS|              Moskva|primary|  1.7125E7|1643318494|\n",
            "|     Bangkok|     Bangkok|   13.75|100.5167|     Thailand|  TH| THA|Krung Thep Maha N...|primary|  1.7066E7|1764068610|\n",
            "|Buenos Aires|Buenos Aires|-34.5997|-58.3819|    Argentina|  AR| ARG|Buenos Aires, Ciu...|primary|  1.6157E7|1032717330|\n",
            "|    Shenzhen|    Shenzhen|  22.535| 114.054|        China|  CN| CHN|           Guangdong|  minor|  1.5929E7|1156158707|\n",
            "|       Dhaka|       Dhaka| 23.7289| 90.3944|   Bangladesh|  BD| BGD|               Dhaka|primary|  1.5443E7|1050529279|\n",
            "|       Lagos|       Lagos|    6.45|     3.4|      Nigeria|  NG| NGA|               Lagos|  minor|  1.5279E7|1566593751|\n",
            "+------------+------------+--------+--------+-------------+----+----+--------------------+-------+----------+----------+\n",
            "only showing top 20 rows\n",
            "\n"
          ]
        }
      ]
    },
    {
      "cell_type": "code",
      "metadata": {
        "colab": {
          "base_uri": "https://localhost:8080/"
        },
        "id": "AkP9uaRBgFrP",
        "outputId": "8de4069f-90f3-438d-c8b0-b024a8aae6bf"
      },
      "source": [
        "df_spark2.printSchema()"
      ],
      "execution_count": 22,
      "outputs": [
        {
          "output_type": "stream",
          "name": "stdout",
          "text": [
            "root\n",
            " |-- city: string (nullable = true)\n",
            " |-- city_ascii: string (nullable = true)\n",
            " |-- lat: double (nullable = true)\n",
            " |-- lng: double (nullable = true)\n",
            " |-- country: string (nullable = true)\n",
            " |-- iso2: string (nullable = true)\n",
            " |-- iso3: string (nullable = true)\n",
            " |-- admin_name: string (nullable = true)\n",
            " |-- capital: string (nullable = true)\n",
            " |-- population: double (nullable = true)\n",
            " |-- id: integer (nullable = true)\n",
            "\n"
          ]
        }
      ]
    },
    {
      "cell_type": "code",
      "metadata": {
        "colab": {
          "base_uri": "https://localhost:8080/"
        },
        "id": "Atu_A55wdD68",
        "outputId": "e7744c89-6e07-4e6f-9076-81b182434c26"
      },
      "source": [
        "type(df_spark2)"
      ],
      "execution_count": 21,
      "outputs": [
        {
          "output_type": "execute_result",
          "data": {
            "text/plain": [
              "pyspark.sql.dataframe.DataFrame"
            ]
          },
          "metadata": {},
          "execution_count": 21
        }
      ]
    }
  ]
}