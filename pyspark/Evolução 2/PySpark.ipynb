{
  "nbformat": 4,
  "nbformat_minor": 0,
  "metadata": {
    "colab": {
      "name": "PySpark.ipynb",
      "provenance": []
    },
    "kernelspec": {
      "name": "python3",
      "display_name": "Python 3"
    },
    "language_info": {
      "name": "python"
    }
  },
  "cells": [
    {
      "cell_type": "markdown",
      "metadata": {
        "id": "l3q-NrSuYO2D"
      },
      "source": [
        "**Instalar sessão**"
      ]
    },
    {
      "cell_type": "code",
      "metadata": {
        "id": "vO0Sca0ZVDeU"
      },
      "source": [
        "# instalar as dependências\n",
        "!apt-get install openjdk-8-jdk-headless -qq > /dev/null\n",
        "!wget -q https://archive.apache.org/dist/spark/spark-2.4.4/spark-2.4.4-bin-hadoop2.7.tgz\n",
        "!tar xf spark-2.4.4-bin-hadoop2.7.tgz\n",
        "!pip install -q findspark"
      ],
      "execution_count": 1,
      "outputs": []
    },
    {
      "cell_type": "code",
      "metadata": {
        "id": "4mPqanKWVPyi"
      },
      "source": [
        "# configurar as variáveis de ambiente\n",
        "import os\n",
        "os.environ[\"JAVA_HOME\"] = \"/usr/lib/jvm/java-8-openjdk-amd64\"\n",
        "os.environ[\"SPARK_HOME\"] = \"/content/spark-2.4.4-bin-hadoop2.7\"\n",
        "\n",
        "# tornar o pyspark \"importável\"\n",
        "import findspark\n",
        "findspark.init('spark-2.4.4-bin-hadoop2.7')"
      ],
      "execution_count": 2,
      "outputs": []
    },
    {
      "cell_type": "code",
      "metadata": {
        "id": "KSPMOxSvQlrG"
      },
      "source": [
        "# bibliotecas importantes\n",
        "import pyspark.sql.functions as SF"
      ],
      "execution_count": 14,
      "outputs": []
    },
    {
      "cell_type": "markdown",
      "metadata": {
        "id": "mJxn8udwYX4a"
      },
      "source": [
        "# **Leitura**"
      ]
    },
    {
      "cell_type": "code",
      "metadata": {
        "id": "Ost5cAHjVQWB"
      },
      "source": [
        "# iniciar uma sessão local\n",
        "from pyspark.sql import SparkSession\n",
        "sc = SparkSession.builder.master('local[*]').getOrCreate()"
      ],
      "execution_count": 3,
      "outputs": []
    },
    {
      "cell_type": "code",
      "metadata": {
        "colab": {
          "base_uri": "https://localhost:8080/"
        },
        "id": "F578-rlXYdy7",
        "outputId": "d6338d5d-194a-4763-babc-a37d9e4f7a69"
      },
      "source": [
        "# carregar dados de um csv\n",
        "df_spark = sc.read.csv(\"/content/worldcities.csv\")\n",
        "\n",
        "# ver algumas informações sobre os tipos de dados de cada coluna\n",
        "df_spark.printSchema()"
      ],
      "execution_count": null,
      "outputs": [
        {
          "output_type": "stream",
          "name": "stdout",
          "text": [
            "root\n",
            " |-- _c0: string (nullable = true)\n",
            " |-- _c1: string (nullable = true)\n",
            " |-- _c2: string (nullable = true)\n",
            " |-- _c3: string (nullable = true)\n",
            " |-- _c4: string (nullable = true)\n",
            " |-- _c5: string (nullable = true)\n",
            " |-- _c6: string (nullable = true)\n",
            " |-- _c7: string (nullable = true)\n",
            " |-- _c8: string (nullable = true)\n",
            " |-- _c9: string (nullable = true)\n",
            " |-- _c10: string (nullable = true)\n",
            "\n"
          ]
        }
      ]
    },
    {
      "cell_type": "code",
      "metadata": {
        "colab": {
          "base_uri": "https://localhost:8080/"
        },
        "id": "oIiYGg37YgFP",
        "outputId": "d0d09d32-ae99-421c-dee4-e2d2ae7d56c2"
      },
      "source": [
        "df_spark.show()"
      ],
      "execution_count": null,
      "outputs": [
        {
          "output_type": "stream",
          "name": "stdout",
          "text": [
            "+------------+------------+--------+--------+-------------+----+----+--------------------+-------+----------+----------+\n",
            "|         _c0|         _c1|     _c2|     _c3|          _c4| _c5| _c6|                 _c7|    _c8|       _c9|      _c10|\n",
            "+------------+------------+--------+--------+-------------+----+----+--------------------+-------+----------+----------+\n",
            "|        city|  city_ascii|     lat|     lng|      country|iso2|iso3|          admin_name|capital|population|        id|\n",
            "|       Tokyo|       Tokyo| 35.6897|139.6922|        Japan|  JP| JPN|               Tōkyō|primary|  37977000|1392685764|\n",
            "|     Jakarta|     Jakarta| -6.2146|106.8451|    Indonesia|  ID| IDN|             Jakarta|primary|  34540000|1360771077|\n",
            "|       Delhi|       Delhi| 28.6600| 77.2300|        India|  IN| IND|               Delhi|  admin|  29617000|1356872604|\n",
            "|      Mumbai|      Mumbai| 18.9667| 72.8333|        India|  IN| IND|         Mahārāshtra|  admin|  23355000|1356226629|\n",
            "|      Manila|      Manila| 14.6000|120.9833|  Philippines|  PH| PHL|              Manila|primary|  23088000|1608618140|\n",
            "|    Shanghai|    Shanghai| 31.1667|121.4667|        China|  CN| CHN|            Shanghai|  admin|  22120000|1156073548|\n",
            "|   São Paulo|   Sao Paulo|-23.5504|-46.6339|       Brazil|  BR| BRA|           São Paulo|  admin|  22046000|1076532519|\n",
            "|       Seoul|       Seoul| 37.5600|126.9900| Korea, South|  KR| KOR|               Seoul|primary|  21794000|1410836482|\n",
            "| Mexico City| Mexico City| 19.4333|-99.1333|       Mexico|  MX| MEX|    Ciudad de México|primary|  20996000|1484247881|\n",
            "|   Guangzhou|   Guangzhou| 23.1288|113.2590|        China|  CN| CHN|           Guangdong|  admin|  20902000|1156237133|\n",
            "|     Beijing|     Beijing| 39.9050|116.3914|        China|  CN| CHN|             Beijing|primary|  19433000|1156228865|\n",
            "|       Cairo|       Cairo| 30.0561| 31.2394|        Egypt|  EG| EGY|          Al Qāhirah|primary|  19372000|1818253931|\n",
            "|    New York|    New York| 40.6943|-73.9249|United States|  US| USA|            New York|   null|  18713220|1840034016|\n",
            "|     Kolkāta|     Kolkata| 22.5411| 88.3378|        India|  IN| IND|         West Bengal|  admin|  17560000|1356060520|\n",
            "|      Moscow|      Moscow| 55.7558| 37.6178|       Russia|  RU| RUS|              Moskva|primary|  17125000|1643318494|\n",
            "|     Bangkok|     Bangkok| 13.7500|100.5167|     Thailand|  TH| THA|Krung Thep Maha N...|primary|  17066000|1764068610|\n",
            "|Buenos Aires|Buenos Aires|-34.5997|-58.3819|    Argentina|  AR| ARG|Buenos Aires, Ciu...|primary|  16157000|1032717330|\n",
            "|    Shenzhen|    Shenzhen| 22.5350|114.0540|        China|  CN| CHN|           Guangdong|  minor|  15929000|1156158707|\n",
            "|       Dhaka|       Dhaka| 23.7289| 90.3944|   Bangladesh|  BD| BGD|               Dhaka|primary|  15443000|1050529279|\n",
            "+------------+------------+--------+--------+-------------+----+----+--------------------+-------+----------+----------+\n",
            "only showing top 20 rows\n",
            "\n"
          ]
        }
      ]
    },
    {
      "cell_type": "markdown",
      "metadata": {
        "id": "lDRxGkgZcbh_"
      },
      "source": [
        "Usando header para setar os nomes das colunas corretamente"
      ]
    },
    {
      "cell_type": "code",
      "metadata": {
        "id": "hQyKkacZY2nf"
      },
      "source": [
        "df_spark1 = sc.read.csv(\"/content/worldcities.csv\", header=True)"
      ],
      "execution_count": null,
      "outputs": []
    },
    {
      "cell_type": "code",
      "metadata": {
        "colab": {
          "base_uri": "https://localhost:8080/"
        },
        "id": "JaTlk-ANY7d6",
        "outputId": "5ad7d192-bc1c-4e36-d91d-2c06804a14bc"
      },
      "source": [
        "df_spark1.show()"
      ],
      "execution_count": null,
      "outputs": [
        {
          "output_type": "stream",
          "name": "stdout",
          "text": [
            "+------------+------------+--------+--------+-------------+----+----+--------------------+-------+----------+----------+\n",
            "|        city|  city_ascii|     lat|     lng|      country|iso2|iso3|          admin_name|capital|population|        id|\n",
            "+------------+------------+--------+--------+-------------+----+----+--------------------+-------+----------+----------+\n",
            "|       Tokyo|       Tokyo| 35.6897|139.6922|        Japan|  JP| JPN|               Tōkyō|primary|  37977000|1392685764|\n",
            "|     Jakarta|     Jakarta| -6.2146|106.8451|    Indonesia|  ID| IDN|             Jakarta|primary|  34540000|1360771077|\n",
            "|       Delhi|       Delhi| 28.6600| 77.2300|        India|  IN| IND|               Delhi|  admin|  29617000|1356872604|\n",
            "|      Mumbai|      Mumbai| 18.9667| 72.8333|        India|  IN| IND|         Mahārāshtra|  admin|  23355000|1356226629|\n",
            "|      Manila|      Manila| 14.6000|120.9833|  Philippines|  PH| PHL|              Manila|primary|  23088000|1608618140|\n",
            "|    Shanghai|    Shanghai| 31.1667|121.4667|        China|  CN| CHN|            Shanghai|  admin|  22120000|1156073548|\n",
            "|   São Paulo|   Sao Paulo|-23.5504|-46.6339|       Brazil|  BR| BRA|           São Paulo|  admin|  22046000|1076532519|\n",
            "|       Seoul|       Seoul| 37.5600|126.9900| Korea, South|  KR| KOR|               Seoul|primary|  21794000|1410836482|\n",
            "| Mexico City| Mexico City| 19.4333|-99.1333|       Mexico|  MX| MEX|    Ciudad de México|primary|  20996000|1484247881|\n",
            "|   Guangzhou|   Guangzhou| 23.1288|113.2590|        China|  CN| CHN|           Guangdong|  admin|  20902000|1156237133|\n",
            "|     Beijing|     Beijing| 39.9050|116.3914|        China|  CN| CHN|             Beijing|primary|  19433000|1156228865|\n",
            "|       Cairo|       Cairo| 30.0561| 31.2394|        Egypt|  EG| EGY|          Al Qāhirah|primary|  19372000|1818253931|\n",
            "|    New York|    New York| 40.6943|-73.9249|United States|  US| USA|            New York|   null|  18713220|1840034016|\n",
            "|     Kolkāta|     Kolkata| 22.5411| 88.3378|        India|  IN| IND|         West Bengal|  admin|  17560000|1356060520|\n",
            "|      Moscow|      Moscow| 55.7558| 37.6178|       Russia|  RU| RUS|              Moskva|primary|  17125000|1643318494|\n",
            "|     Bangkok|     Bangkok| 13.7500|100.5167|     Thailand|  TH| THA|Krung Thep Maha N...|primary|  17066000|1764068610|\n",
            "|Buenos Aires|Buenos Aires|-34.5997|-58.3819|    Argentina|  AR| ARG|Buenos Aires, Ciu...|primary|  16157000|1032717330|\n",
            "|    Shenzhen|    Shenzhen| 22.5350|114.0540|        China|  CN| CHN|           Guangdong|  minor|  15929000|1156158707|\n",
            "|       Dhaka|       Dhaka| 23.7289| 90.3944|   Bangladesh|  BD| BGD|               Dhaka|primary|  15443000|1050529279|\n",
            "|       Lagos|       Lagos|  6.4500|  3.4000|      Nigeria|  NG| NGA|               Lagos|  minor|  15279000|1566593751|\n",
            "+------------+------------+--------+--------+-------------+----+----+--------------------+-------+----------+----------+\n",
            "only showing top 20 rows\n",
            "\n"
          ]
        }
      ]
    },
    {
      "cell_type": "code",
      "metadata": {
        "colab": {
          "base_uri": "https://localhost:8080/"
        },
        "id": "AddY5RrEcsJv",
        "outputId": "2359e5e0-05bc-4051-dec0-bbebfa0ebe5f"
      },
      "source": [
        "df_spark1"
      ],
      "execution_count": null,
      "outputs": [
        {
          "output_type": "execute_result",
          "data": {
            "text/plain": [
              "DataFrame[city: string, city_ascii: string, lat: string, lng: string, country: string, iso2: string, iso3: string, admin_name: string, capital: string, population: string, id: string]"
            ]
          },
          "metadata": {},
          "execution_count": 19
        }
      ]
    },
    {
      "cell_type": "markdown",
      "metadata": {
        "id": "zJ-M3PCkcgxf"
      },
      "source": [
        "Como poder ver acima, todas as colunas são do tipo string, vamos ajeitar usando inferSchema"
      ]
    },
    {
      "cell_type": "code",
      "metadata": {
        "id": "wkspRXwUY-vu"
      },
      "source": [
        "df_spark2 = sc.read.csv(\"/content/worldcities.csv\", inferSchema=True, header=True) "
      ],
      "execution_count": null,
      "outputs": []
    },
    {
      "cell_type": "code",
      "metadata": {
        "colab": {
          "base_uri": "https://localhost:8080/"
        },
        "id": "9DPG7F6Hc38V",
        "outputId": "184b01fa-90f6-48ac-8fc2-e6ea716559cf"
      },
      "source": [
        "df_spark2"
      ],
      "execution_count": null,
      "outputs": [
        {
          "output_type": "execute_result",
          "data": {
            "text/plain": [
              "DataFrame[city: string, city_ascii: string, lat: double, lng: double, country: string, iso2: string, iso3: string, admin_name: string, capital: string, population: double, id: int]"
            ]
          },
          "metadata": {},
          "execution_count": 20
        }
      ]
    },
    {
      "cell_type": "code",
      "metadata": {
        "colab": {
          "base_uri": "https://localhost:8080/"
        },
        "id": "43JWGi36ZDg7",
        "outputId": "7770226d-ef8c-4232-ea52-5fad1657e67f"
      },
      "source": [
        "df_spark2.show()"
      ],
      "execution_count": null,
      "outputs": [
        {
          "output_type": "stream",
          "name": "stdout",
          "text": [
            "+------------+------------+--------+--------+-------------+----+----+--------------------+-------+----------+----------+\n",
            "|        city|  city_ascii|     lat|     lng|      country|iso2|iso3|          admin_name|capital|population|        id|\n",
            "+------------+------------+--------+--------+-------------+----+----+--------------------+-------+----------+----------+\n",
            "|       Tokyo|       Tokyo| 35.6897|139.6922|        Japan|  JP| JPN|               Tōkyō|primary|  3.7977E7|1392685764|\n",
            "|     Jakarta|     Jakarta| -6.2146|106.8451|    Indonesia|  ID| IDN|             Jakarta|primary|   3.454E7|1360771077|\n",
            "|       Delhi|       Delhi|   28.66|   77.23|        India|  IN| IND|               Delhi|  admin|  2.9617E7|1356872604|\n",
            "|      Mumbai|      Mumbai| 18.9667| 72.8333|        India|  IN| IND|         Mahārāshtra|  admin|  2.3355E7|1356226629|\n",
            "|      Manila|      Manila|    14.6|120.9833|  Philippines|  PH| PHL|              Manila|primary|  2.3088E7|1608618140|\n",
            "|    Shanghai|    Shanghai| 31.1667|121.4667|        China|  CN| CHN|            Shanghai|  admin|   2.212E7|1156073548|\n",
            "|   São Paulo|   Sao Paulo|-23.5504|-46.6339|       Brazil|  BR| BRA|           São Paulo|  admin|  2.2046E7|1076532519|\n",
            "|       Seoul|       Seoul|   37.56|  126.99| Korea, South|  KR| KOR|               Seoul|primary|  2.1794E7|1410836482|\n",
            "| Mexico City| Mexico City| 19.4333|-99.1333|       Mexico|  MX| MEX|    Ciudad de México|primary|  2.0996E7|1484247881|\n",
            "|   Guangzhou|   Guangzhou| 23.1288| 113.259|        China|  CN| CHN|           Guangdong|  admin|  2.0902E7|1156237133|\n",
            "|     Beijing|     Beijing|  39.905|116.3914|        China|  CN| CHN|             Beijing|primary|  1.9433E7|1156228865|\n",
            "|       Cairo|       Cairo| 30.0561| 31.2394|        Egypt|  EG| EGY|          Al Qāhirah|primary|  1.9372E7|1818253931|\n",
            "|    New York|    New York| 40.6943|-73.9249|United States|  US| USA|            New York|   null|1.871322E7|1840034016|\n",
            "|     Kolkāta|     Kolkata| 22.5411| 88.3378|        India|  IN| IND|         West Bengal|  admin|   1.756E7|1356060520|\n",
            "|      Moscow|      Moscow| 55.7558| 37.6178|       Russia|  RU| RUS|              Moskva|primary|  1.7125E7|1643318494|\n",
            "|     Bangkok|     Bangkok|   13.75|100.5167|     Thailand|  TH| THA|Krung Thep Maha N...|primary|  1.7066E7|1764068610|\n",
            "|Buenos Aires|Buenos Aires|-34.5997|-58.3819|    Argentina|  AR| ARG|Buenos Aires, Ciu...|primary|  1.6157E7|1032717330|\n",
            "|    Shenzhen|    Shenzhen|  22.535| 114.054|        China|  CN| CHN|           Guangdong|  minor|  1.5929E7|1156158707|\n",
            "|       Dhaka|       Dhaka| 23.7289| 90.3944|   Bangladesh|  BD| BGD|               Dhaka|primary|  1.5443E7|1050529279|\n",
            "|       Lagos|       Lagos|    6.45|     3.4|      Nigeria|  NG| NGA|               Lagos|  minor|  1.5279E7|1566593751|\n",
            "+------------+------------+--------+--------+-------------+----+----+--------------------+-------+----------+----------+\n",
            "only showing top 20 rows\n",
            "\n"
          ]
        }
      ]
    },
    {
      "cell_type": "code",
      "metadata": {
        "colab": {
          "base_uri": "https://localhost:8080/"
        },
        "id": "AkP9uaRBgFrP",
        "outputId": "8de4069f-90f3-438d-c8b0-b024a8aae6bf"
      },
      "source": [
        "df_spark2.printSchema()"
      ],
      "execution_count": null,
      "outputs": [
        {
          "output_type": "stream",
          "name": "stdout",
          "text": [
            "root\n",
            " |-- city: string (nullable = true)\n",
            " |-- city_ascii: string (nullable = true)\n",
            " |-- lat: double (nullable = true)\n",
            " |-- lng: double (nullable = true)\n",
            " |-- country: string (nullable = true)\n",
            " |-- iso2: string (nullable = true)\n",
            " |-- iso3: string (nullable = true)\n",
            " |-- admin_name: string (nullable = true)\n",
            " |-- capital: string (nullable = true)\n",
            " |-- population: double (nullable = true)\n",
            " |-- id: integer (nullable = true)\n",
            "\n"
          ]
        }
      ]
    },
    {
      "cell_type": "code",
      "metadata": {
        "colab": {
          "base_uri": "https://localhost:8080/"
        },
        "id": "Atu_A55wdD68",
        "outputId": "e7744c89-6e07-4e6f-9076-81b182434c26"
      },
      "source": [
        "type(df_spark2)"
      ],
      "execution_count": null,
      "outputs": [
        {
          "output_type": "execute_result",
          "data": {
            "text/plain": [
              "pyspark.sql.dataframe.DataFrame"
            ]
          },
          "metadata": {},
          "execution_count": 21
        }
      ]
    },
    {
      "cell_type": "markdown",
      "metadata": {
        "id": "_zrW3IpSMcss"
      },
      "source": [
        "# **Leitura: Modo 2 (mais usado)**"
      ]
    },
    {
      "cell_type": "code",
      "metadata": {
        "id": "MIA42xuaMcOD"
      },
      "source": [
        "df_spark = (sc\n",
        "            .read\n",
        "            .format(\"csv\")\n",
        "            .option(\"header\", \"true\")\n",
        "            .option(\"inferSchema\", \"true\")\n",
        "            .load(\"/content/worldcities.csv\")\n",
        "            )"
      ],
      "execution_count": 5,
      "outputs": []
    },
    {
      "cell_type": "code",
      "metadata": {
        "colab": {
          "base_uri": "https://localhost:8080/"
        },
        "id": "vquicufONAaQ",
        "outputId": "051fcaa2-3ab7-4e62-e990-42422e8ee838"
      },
      "source": [
        "print(df_spark)"
      ],
      "execution_count": 6,
      "outputs": [
        {
          "output_type": "stream",
          "name": "stdout",
          "text": [
            "DataFrame[city: string, city_ascii: string, lat: double, lng: double, country: string, iso2: string, iso3: string, admin_name: string, capital: string, population: double, id: int]\n"
          ]
        }
      ]
    },
    {
      "cell_type": "code",
      "metadata": {
        "colab": {
          "base_uri": "https://localhost:8080/"
        },
        "id": "2SORwV3FNDcb",
        "outputId": "165bc8ca-46d2-4fb8-e52f-d9dac88a6cbf"
      },
      "source": [
        "df_spark.printSchema()"
      ],
      "execution_count": 7,
      "outputs": [
        {
          "output_type": "stream",
          "name": "stdout",
          "text": [
            "root\n",
            " |-- city: string (nullable = true)\n",
            " |-- city_ascii: string (nullable = true)\n",
            " |-- lat: double (nullable = true)\n",
            " |-- lng: double (nullable = true)\n",
            " |-- country: string (nullable = true)\n",
            " |-- iso2: string (nullable = true)\n",
            " |-- iso3: string (nullable = true)\n",
            " |-- admin_name: string (nullable = true)\n",
            " |-- capital: string (nullable = true)\n",
            " |-- population: double (nullable = true)\n",
            " |-- id: integer (nullable = true)\n",
            "\n"
          ]
        }
      ]
    },
    {
      "cell_type": "code",
      "metadata": {
        "colab": {
          "base_uri": "https://localhost:8080/"
        },
        "id": "wvrmiHqkNGap",
        "outputId": "8cf713a1-7148-4354-f6fc-370528e61cfe"
      },
      "source": [
        "type(df_spark)"
      ],
      "execution_count": 8,
      "outputs": [
        {
          "output_type": "execute_result",
          "data": {
            "text/plain": [
              "pyspark.sql.dataframe.DataFrame"
            ]
          },
          "metadata": {},
          "execution_count": 8
        }
      ]
    },
    {
      "cell_type": "code",
      "metadata": {
        "colab": {
          "base_uri": "https://localhost:8080/"
        },
        "id": "6bmM_GeANYWm",
        "outputId": "5f6bcd69-3842-4a15-85f9-1396e89566b8"
      },
      "source": [
        "df_spark.show(3)"
      ],
      "execution_count": 10,
      "outputs": [
        {
          "output_type": "stream",
          "name": "stdout",
          "text": [
            "+-------+----------+-------+--------+---------+----+----+----------+-------+----------+----------+\n",
            "|   city|city_ascii|    lat|     lng|  country|iso2|iso3|admin_name|capital|population|        id|\n",
            "+-------+----------+-------+--------+---------+----+----+----------+-------+----------+----------+\n",
            "|  Tokyo|     Tokyo|35.6897|139.6922|    Japan|  JP| JPN|     Tōkyō|primary|  3.7977E7|1392685764|\n",
            "|Jakarta|   Jakarta|-6.2146|106.8451|Indonesia|  ID| IDN|   Jakarta|primary|   3.454E7|1360771077|\n",
            "|  Delhi|     Delhi|  28.66|   77.23|    India|  IN| IND|     Delhi|  admin|  2.9617E7|1356872604|\n",
            "+-------+----------+-------+--------+---------+----+----+----------+-------+----------+----------+\n",
            "only showing top 3 rows\n",
            "\n"
          ]
        }
      ]
    },
    {
      "cell_type": "code",
      "metadata": {
        "colab": {
          "base_uri": "https://localhost:8080/"
        },
        "id": "ng9hwvAWNc6-",
        "outputId": "481fd6e5-cd55-4cca-88f7-c0f00a4b5ecd"
      },
      "source": [
        "df_spark.head(3)"
      ],
      "execution_count": 12,
      "outputs": [
        {
          "output_type": "execute_result",
          "data": {
            "text/plain": [
              "[Row(city='Tokyo', city_ascii='Tokyo', lat=35.6897, lng=139.6922, country='Japan', iso2='JP', iso3='JPN', admin_name='Tōkyō', capital='primary', population=37977000.0, id=1392685764),\n",
              " Row(city='Jakarta', city_ascii='Jakarta', lat=-6.2146, lng=106.8451, country='Indonesia', iso2='ID', iso3='IDN', admin_name='Jakarta', capital='primary', population=34540000.0, id=1360771077),\n",
              " Row(city='Delhi', city_ascii='Delhi', lat=28.66, lng=77.23, country='India', iso2='IN', iso3='IND', admin_name='Delhi', capital='admin', population=29617000.0, id=1356872604)]"
            ]
          },
          "metadata": {},
          "execution_count": 12
        }
      ]
    },
    {
      "cell_type": "markdown",
      "metadata": {
        "id": "yXEGN6_lQDSG"
      },
      "source": [
        "# **Select**"
      ]
    },
    {
      "cell_type": "code",
      "metadata": {
        "colab": {
          "base_uri": "https://localhost:8080/"
        },
        "id": "t33kKPk4QFhd",
        "outputId": "f97179f9-a4eb-422c-c9c9-d7d50dec5d5d"
      },
      "source": [
        "df_spark.select(\"city\", \"country\", \"population\").show(5)"
      ],
      "execution_count": 13,
      "outputs": [
        {
          "output_type": "stream",
          "name": "stdout",
          "text": [
            "+-------+-----------+----------+\n",
            "|   city|    country|population|\n",
            "+-------+-----------+----------+\n",
            "|  Tokyo|      Japan|  3.7977E7|\n",
            "|Jakarta|  Indonesia|   3.454E7|\n",
            "|  Delhi|      India|  2.9617E7|\n",
            "| Mumbai|      India|  2.3355E7|\n",
            "| Manila|Philippines|  2.3088E7|\n",
            "+-------+-----------+----------+\n",
            "only showing top 5 rows\n",
            "\n"
          ]
        }
      ]
    },
    {
      "cell_type": "code",
      "metadata": {
        "colab": {
          "base_uri": "https://localhost:8080/"
        },
        "id": "krd4u4H9Qr-a",
        "outputId": "aa235edf-723b-4d48-bbf0-9b8090c70773"
      },
      "source": [
        "# mostra os comandos que podem ser realizados no df\n",
        "dir(df_spark)"
      ],
      "execution_count": 15,
      "outputs": [
        {
          "output_type": "execute_result",
          "data": {
            "text/plain": [
              "['__class__',\n",
              " '__delattr__',\n",
              " '__dict__',\n",
              " '__dir__',\n",
              " '__doc__',\n",
              " '__eq__',\n",
              " '__format__',\n",
              " '__ge__',\n",
              " '__getattr__',\n",
              " '__getattribute__',\n",
              " '__getitem__',\n",
              " '__gt__',\n",
              " '__hash__',\n",
              " '__init__',\n",
              " '__init_subclass__',\n",
              " '__le__',\n",
              " '__lt__',\n",
              " '__module__',\n",
              " '__ne__',\n",
              " '__new__',\n",
              " '__reduce__',\n",
              " '__reduce_ex__',\n",
              " '__repr__',\n",
              " '__setattr__',\n",
              " '__sizeof__',\n",
              " '__str__',\n",
              " '__subclasshook__',\n",
              " '__weakref__',\n",
              " '_collectAsArrow',\n",
              " '_jcols',\n",
              " '_jdf',\n",
              " '_jmap',\n",
              " '_jseq',\n",
              " '_lazy_rdd',\n",
              " '_repr_html_',\n",
              " '_sc',\n",
              " '_schema',\n",
              " '_sort_cols',\n",
              " '_support_repr_html',\n",
              " 'agg',\n",
              " 'alias',\n",
              " 'approxQuantile',\n",
              " 'cache',\n",
              " 'checkpoint',\n",
              " 'coalesce',\n",
              " 'colRegex',\n",
              " 'collect',\n",
              " 'columns',\n",
              " 'corr',\n",
              " 'count',\n",
              " 'cov',\n",
              " 'createGlobalTempView',\n",
              " 'createOrReplaceGlobalTempView',\n",
              " 'createOrReplaceTempView',\n",
              " 'createTempView',\n",
              " 'crossJoin',\n",
              " 'crosstab',\n",
              " 'cube',\n",
              " 'describe',\n",
              " 'distinct',\n",
              " 'drop',\n",
              " 'dropDuplicates',\n",
              " 'drop_duplicates',\n",
              " 'dropna',\n",
              " 'dtypes',\n",
              " 'exceptAll',\n",
              " 'explain',\n",
              " 'fillna',\n",
              " 'filter',\n",
              " 'first',\n",
              " 'foreach',\n",
              " 'foreachPartition',\n",
              " 'freqItems',\n",
              " 'groupBy',\n",
              " 'groupby',\n",
              " 'head',\n",
              " 'hint',\n",
              " 'intersect',\n",
              " 'intersectAll',\n",
              " 'isLocal',\n",
              " 'isStreaming',\n",
              " 'is_cached',\n",
              " 'join',\n",
              " 'limit',\n",
              " 'localCheckpoint',\n",
              " 'na',\n",
              " 'orderBy',\n",
              " 'persist',\n",
              " 'printSchema',\n",
              " 'randomSplit',\n",
              " 'rdd',\n",
              " 'registerTempTable',\n",
              " 'repartition',\n",
              " 'repartitionByRange',\n",
              " 'replace',\n",
              " 'rollup',\n",
              " 'sample',\n",
              " 'sampleBy',\n",
              " 'schema',\n",
              " 'select',\n",
              " 'selectExpr',\n",
              " 'show',\n",
              " 'sort',\n",
              " 'sortWithinPartitions',\n",
              " 'sql_ctx',\n",
              " 'stat',\n",
              " 'storageLevel',\n",
              " 'subtract',\n",
              " 'summary',\n",
              " 'take',\n",
              " 'toDF',\n",
              " 'toJSON',\n",
              " 'toLocalIterator',\n",
              " 'toPandas',\n",
              " 'union',\n",
              " 'unionAll',\n",
              " 'unionByName',\n",
              " 'unpersist',\n",
              " 'where',\n",
              " 'withColumn',\n",
              " 'withColumnRenamed',\n",
              " 'withWatermark',\n",
              " 'write',\n",
              " 'writeStream']"
            ]
          },
          "metadata": {},
          "execution_count": 15
        }
      ]
    },
    {
      "cell_type": "code",
      "metadata": {
        "colab": {
          "base_uri": "https://localhost:8080/"
        },
        "id": "4RSWB_uQQxET",
        "outputId": "acf11016-5d65-4bce-ad53-e564a9e8ef4a"
      },
      "source": [
        "# mostra os comandos que podem ser realizados em uma coluna\n",
        "dir(SF.col(\"city\"))"
      ],
      "execution_count": 18,
      "outputs": [
        {
          "output_type": "execute_result",
          "data": {
            "text/plain": [
              "['__add__',\n",
              " '__and__',\n",
              " '__bool__',\n",
              " '__class__',\n",
              " '__contains__',\n",
              " '__delattr__',\n",
              " '__dict__',\n",
              " '__dir__',\n",
              " '__div__',\n",
              " '__doc__',\n",
              " '__eq__',\n",
              " '__format__',\n",
              " '__ge__',\n",
              " '__getattr__',\n",
              " '__getattribute__',\n",
              " '__getitem__',\n",
              " '__gt__',\n",
              " '__hash__',\n",
              " '__init__',\n",
              " '__init_subclass__',\n",
              " '__invert__',\n",
              " '__iter__',\n",
              " '__le__',\n",
              " '__lt__',\n",
              " '__mod__',\n",
              " '__module__',\n",
              " '__mul__',\n",
              " '__ne__',\n",
              " '__neg__',\n",
              " '__new__',\n",
              " '__nonzero__',\n",
              " '__or__',\n",
              " '__pow__',\n",
              " '__radd__',\n",
              " '__rand__',\n",
              " '__rdiv__',\n",
              " '__reduce__',\n",
              " '__reduce_ex__',\n",
              " '__repr__',\n",
              " '__rmod__',\n",
              " '__rmul__',\n",
              " '__ror__',\n",
              " '__rpow__',\n",
              " '__rsub__',\n",
              " '__rtruediv__',\n",
              " '__setattr__',\n",
              " '__sizeof__',\n",
              " '__str__',\n",
              " '__sub__',\n",
              " '__subclasshook__',\n",
              " '__truediv__',\n",
              " '__weakref__',\n",
              " '_asc_doc',\n",
              " '_asc_nulls_first_doc',\n",
              " '_asc_nulls_last_doc',\n",
              " '_bitwiseAND_doc',\n",
              " '_bitwiseOR_doc',\n",
              " '_bitwiseXOR_doc',\n",
              " '_contains_doc',\n",
              " '_desc_doc',\n",
              " '_desc_nulls_first_doc',\n",
              " '_desc_nulls_last_doc',\n",
              " '_endswith_doc',\n",
              " '_eqNullSafe_doc',\n",
              " '_isNotNull_doc',\n",
              " '_isNull_doc',\n",
              " '_jc',\n",
              " '_like_doc',\n",
              " '_rlike_doc',\n",
              " '_startswith_doc',\n",
              " 'alias',\n",
              " 'asc',\n",
              " 'asc_nulls_first',\n",
              " 'asc_nulls_last',\n",
              " 'astype',\n",
              " 'between',\n",
              " 'bitwiseAND',\n",
              " 'bitwiseOR',\n",
              " 'bitwiseXOR',\n",
              " 'cast',\n",
              " 'contains',\n",
              " 'desc',\n",
              " 'desc_nulls_first',\n",
              " 'desc_nulls_last',\n",
              " 'endswith',\n",
              " 'eqNullSafe',\n",
              " 'getField',\n",
              " 'getItem',\n",
              " 'isNotNull',\n",
              " 'isNull',\n",
              " 'isin',\n",
              " 'like',\n",
              " 'name',\n",
              " 'otherwise',\n",
              " 'over',\n",
              " 'rlike',\n",
              " 'startswith',\n",
              " 'substr',\n",
              " 'when']"
            ]
          },
          "metadata": {},
          "execution_count": 18
        }
      ]
    },
    {
      "cell_type": "markdown",
      "metadata": {
        "id": "BxbxF_UcRoBS"
      },
      "source": [
        "**Fazendo uma seleção específica**"
      ]
    },
    {
      "cell_type": "code",
      "metadata": {
        "id": "h1tZvx2NRqid"
      },
      "source": [
        "# - as duas linhas de código comentadas funcionam da mesma forma de como a ultima linha representa\n",
        "\n",
        "#filtro_df = df_spark.select(SF.col(\"city\"), SF.col(\"country\"), SF.col(\"population\")).filter(SF.col(\"population\") < 10000)\n",
        "#filtro_df = df_spark.select(SF.col(\"city\"), SF.col(\"country\"), SF.col(\"population\")).filter(\"population < 10000\")\n",
        "filtro_df = df_spark.select(SF.col(\"city\"), SF.col(\"country\"), SF.col(\"population\")).filter(df_spark.population < 10000)"
      ],
      "execution_count": 33,
      "outputs": []
    },
    {
      "cell_type": "code",
      "metadata": {
        "colab": {
          "base_uri": "https://localhost:8080/"
        },
        "id": "yL-HBqnISIRc",
        "outputId": "00876ca1-cc15-4f03-bb98-fb23313f0c5d"
      },
      "source": [
        "filtro_df.show(5)"
      ],
      "execution_count": 34,
      "outputs": [
        {
          "output_type": "stream",
          "name": "stdout",
          "text": [
            "+----------+--------------------+----------+\n",
            "|      city|             country|population|\n",
            "+----------+--------------------+----------+\n",
            "|  Valletta|               Malta|    6444.0|\n",
            "|Grand Turk|Turks And Caicos ...|    5801.0|\n",
            "|   Palikir|Micronesia, Feder...|    6227.0|\n",
            "|  Funafuti|              Tuvalu|    6025.0|\n",
            "|   Lobamba|           Swaziland|    5800.0|\n",
            "+----------+--------------------+----------+\n",
            "only showing top 5 rows\n",
            "\n"
          ]
        }
      ]
    },
    {
      "cell_type": "markdown",
      "metadata": {
        "id": "-sjHEhTxWwhb"
      },
      "source": [
        "*Outra forma de realizar a operação acima*"
      ]
    },
    {
      "cell_type": "code",
      "metadata": {
        "colab": {
          "base_uri": "https://localhost:8080/"
        },
        "id": "Ms1rDfBfWwH9",
        "outputId": "7dc2f753-adbe-4a78-9efa-37aaf9e5f82c"
      },
      "source": [
        "colunas = [\"city\", \"country\", \"population\"]\n",
        "filtro = SF.col(\"population\") < 10000\n",
        "\n",
        "df_spark.select(*colunas).filter(filtro).show(5)"
      ],
      "execution_count": 35,
      "outputs": [
        {
          "output_type": "stream",
          "name": "stdout",
          "text": [
            "+----------+--------------------+----------+\n",
            "|      city|             country|population|\n",
            "+----------+--------------------+----------+\n",
            "|  Valletta|               Malta|    6444.0|\n",
            "|Grand Turk|Turks And Caicos ...|    5801.0|\n",
            "|   Palikir|Micronesia, Feder...|    6227.0|\n",
            "|  Funafuti|              Tuvalu|    6025.0|\n",
            "|   Lobamba|           Swaziland|    5800.0|\n",
            "+----------+--------------------+----------+\n",
            "only showing top 5 rows\n",
            "\n"
          ]
        }
      ]
    },
    {
      "cell_type": "markdown",
      "metadata": {
        "id": "yBrN9-_KYci5"
      },
      "source": [
        "**Aplicando mais de um filtro**"
      ]
    },
    {
      "cell_type": "code",
      "metadata": {
        "colab": {
          "base_uri": "https://localhost:8080/"
        },
        "id": "86soKZ4hYeXN",
        "outputId": "adf203fe-8160-460b-ca26-2b95f51e004d"
      },
      "source": [
        "# selecionando todas as colunas dessa vez, então não vou usar o select\n",
        "#df_spark.filter(df_spark.population < 10000).filter(df_spark.country == \"India\").show(5)\n",
        "df_spark.filter((SF.col(\"population\") < 10000) & (SF.col(\"country\") == \"India\")).show(5) # pode-se usar where ao inves de filter"
      ],
      "execution_count": 45,
      "outputs": [
        {
          "output_type": "stream",
          "name": "stdout",
          "text": [
            "+----------------+----------------+-------+-------+-------+----+----+----------------+-------+----------+----------+\n",
            "|            city|      city_ascii|    lat|    lng|country|iso2|iso3|      admin_name|capital|population|        id|\n",
            "+----------------+----------------+-------+-------+-------+----+----+----------------+-------+----------+----------+\n",
            "|       Mahadipur|       Mahadipur|24.8566|88.1248|  India|  IN| IND|     West Bengal|   null|    8638.0|1356139009|\n",
            "|     Drākshārāma|     Draksharama|16.7928|82.0635|  India|  IN| IND|  Andhra Pradesh|   null|    9299.0|1356061765|\n",
            "|         Chikhli|         Chikhli|  20.75|  73.07|  India|  IN| IND|         Gujarāt|   null|    6953.0|1356649674|\n",
            "|Niāla Kondapalle|Niala Kondapalle|   17.1|80.0506|  India|  IN| IND|       Telangana|   null|    7767.0|1356698261|\n",
            "|          Manāli|          Manali|32.2044|  77.17|  India|  IN| IND|Himāchal Pradesh|   null|    8096.0|1356961623|\n",
            "+----------------+----------------+-------+-------+-------+----+----+----------------+-------+----------+----------+\n",
            "only showing top 5 rows\n",
            "\n"
          ]
        }
      ]
    },
    {
      "cell_type": "code",
      "metadata": {
        "colab": {
          "base_uri": "https://localhost:8080/"
        },
        "id": "-xn9nEYTaJ6s",
        "outputId": "cee78e59-94d9-4769-d5dd-1e8c922793d2"
      },
      "source": [
        "df_spark.filter((SF.col(\"population\") < 10000) | (SF.col(\"country\") == \"India\")).show(8) # pode-se usar where ao inves de filter"
      ],
      "execution_count": 48,
      "outputs": [
        {
          "output_type": "stream",
          "name": "stdout",
          "text": [
            "+---------+----------+-------+-------+-------+----+----+-----------+-------+----------+----------+\n",
            "|     city|city_ascii|    lat|    lng|country|iso2|iso3| admin_name|capital|population|        id|\n",
            "+---------+----------+-------+-------+-------+----+----+-----------+-------+----------+----------+\n",
            "|    Delhi|     Delhi|  28.66|  77.23|  India|  IN| IND|      Delhi|  admin|  2.9617E7|1356872604|\n",
            "|   Mumbai|    Mumbai|18.9667|72.8333|  India|  IN| IND|Mahārāshtra|  admin|  2.3355E7|1356226629|\n",
            "|  Kolkāta|   Kolkata|22.5411|88.3378|  India|  IN| IND|West Bengal|  admin|   1.756E7|1356060520|\n",
            "|Bangalore| Bangalore|12.9699| 77.598|  India|  IN| IND|  Karnātaka|  admin|  1.3707E7|1356410365|\n",
            "|  Chennai|   Chennai|13.0825| 80.275|  India|  IN| IND| Tamil Nādu|  admin|  1.1324E7|1356374944|\n",
            "|Hyderābād| Hyderabad|17.3667|78.4667|  India|  IN| IND|  Telangana|  admin| 9746000.0|1356871768|\n",
            "|     Pune|      Pune|18.5196|73.8553|  India|  IN| IND|Mahārāshtra|   null| 7764000.0|1356081074|\n",
            "|Ahmedabad| Ahmedabad|  23.03|  72.58|  India|  IN| IND|    Gujarāt|  minor| 7410000.0|1356304381|\n",
            "+---------+----------+-------+-------+-------+----+----+-----------+-------+----------+----------+\n",
            "only showing top 8 rows\n",
            "\n"
          ]
        }
      ]
    },
    {
      "cell_type": "markdown",
      "metadata": {
        "id": "8nvpebryafMQ"
      },
      "source": [
        "*Usando o comando \"like\" para filtrar*"
      ]
    },
    {
      "cell_type": "code",
      "metadata": {
        "colab": {
          "base_uri": "https://localhost:8080/"
        },
        "id": "g5XibQHPalwC",
        "outputId": "ac0c3e52-3a4c-4e11-878e-09b65f36746c"
      },
      "source": [
        "#df_spark.filter(\"admin_name like 'Tai%'\").show(5) - linguagem SQL\n",
        "df_spark.filter(SF.col(\"admin_name\").like(\"Tai%\")).show(5)"
      ],
      "execution_count": 58,
      "outputs": [
        {
          "output_type": "stream",
          "name": "stdout",
          "text": [
            "+--------+----------+--------+--------+-------+----+----+----------+-------+----------+----------+\n",
            "|    city|city_ascii|     lat|     lng|country|iso2|iso3|admin_name|capital|population|        id|\n",
            "+--------+----------+--------+--------+-------+----+----+----------+-------+----------+----------+\n",
            "|Taichung|  Taichung|   24.15|120.6667| Taiwan|  TW| TWN|  Taichung|  admin| 2803894.0|1158689622|\n",
            "|  Taipei|    Taipei| 25.0478|121.5319| Taiwan|  TW| TWN|    Taipei|primary| 2684567.0|1158881289|\n",
            "|  Tainan|    Tainan| 22.9833|120.1833| Taiwan|  TW| TWN|    Tainan|  admin| 1883831.0|1158061376|\n",
            "| Taitung|   Taitung| 22.7583|121.1444| Taiwan|  TW| TWN|   Taitung|  admin|  108905.0|1158804050|\n",
            "| Nausori|   Nausori|-18.0244|178.5454|   Fiji|  FJ| FJI|   Tailevu|   null|   47604.0|1242640119|\n",
            "+--------+----------+--------+--------+-------+----+----+----------+-------+----------+----------+\n",
            "only showing top 5 rows\n",
            "\n"
          ]
        }
      ]
    },
    {
      "cell_type": "code",
      "metadata": {
        "colab": {
          "base_uri": "https://localhost:8080/"
        },
        "id": "Igr8ckNObU16",
        "outputId": "8fc5b076-a91b-4be2-cdf6-364118fa7e2c"
      },
      "source": [
        "df_spark.filter(\"capital in ('admin', 'primary')\").show(5)"
      ],
      "execution_count": 55,
      "outputs": [
        {
          "output_type": "stream",
          "name": "stdout",
          "text": [
            "+-------+----------+-------+--------+-----------+----+----+-----------+-------+----------+----------+\n",
            "|   city|city_ascii|    lat|     lng|    country|iso2|iso3| admin_name|capital|population|        id|\n",
            "+-------+----------+-------+--------+-----------+----+----+-----------+-------+----------+----------+\n",
            "|  Tokyo|     Tokyo|35.6897|139.6922|      Japan|  JP| JPN|      Tōkyō|primary|  3.7977E7|1392685764|\n",
            "|Jakarta|   Jakarta|-6.2146|106.8451|  Indonesia|  ID| IDN|    Jakarta|primary|   3.454E7|1360771077|\n",
            "|  Delhi|     Delhi|  28.66|   77.23|      India|  IN| IND|      Delhi|  admin|  2.9617E7|1356872604|\n",
            "| Mumbai|    Mumbai|18.9667| 72.8333|      India|  IN| IND|Mahārāshtra|  admin|  2.3355E7|1356226629|\n",
            "| Manila|    Manila|   14.6|120.9833|Philippines|  PH| PHL|     Manila|primary|  2.3088E7|1608618140|\n",
            "+-------+----------+-------+--------+-----------+----+----+-----------+-------+----------+----------+\n",
            "only showing top 5 rows\n",
            "\n"
          ]
        }
      ]
    },
    {
      "cell_type": "code",
      "metadata": {
        "colab": {
          "base_uri": "https://localhost:8080/"
        },
        "id": "A6QClf_kbxA2",
        "outputId": "b13f41d7-cf68-4fcc-c021-c25ac0b1b163"
      },
      "source": [
        "df_spark.filter(SF.col(\"country\").startswith(\"F\")).show(5)"
      ],
      "execution_count": 56,
      "outputs": [
        {
          "output_type": "stream",
          "name": "stdout",
          "text": [
            "+--------+----------+--------+---------+----------------+----+----+--------------------+-------+----------+----------+\n",
            "|    city|city_ascii|     lat|      lng|         country|iso2|iso3|          admin_name|capital|population|        id|\n",
            "+--------+----------+--------+---------+----------------+----+----+--------------------+-------+----------+----------+\n",
            "|   Paris|     Paris| 48.8566|   2.3522|          France|  FR| FRA|       Île-de-France|primary|   1.102E7|1250015082|\n",
            "|    Nice|      Nice| 43.7034|   7.2663|          France|  FR| FRA|Provence-Alpes-Cô...|  minor| 1006402.0|1250774553|\n",
            "|Helsinki|  Helsinki| 60.1756|  24.9342|         Finland|  FI| FIN|             Uusimaa|primary|  642045.0|1246177997|\n",
            "| Papeete|   Papeete|-17.5334|-149.5667|French Polynesia|  PF| PYF|        Îles du Vent|primary|  131695.0|1258907380|\n",
            "|    Suva|      Suva|-18.1333| 178.4333|            Fiji|  FJ| FJI|                Rewa|primary|   88271.0|1242615095|\n",
            "+--------+----------+--------+---------+----------------+----+----+--------------------+-------+----------+----------+\n",
            "only showing top 5 rows\n",
            "\n"
          ]
        }
      ]
    }
  ]
}